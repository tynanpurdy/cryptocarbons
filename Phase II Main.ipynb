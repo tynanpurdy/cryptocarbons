{
 "cells": [
  {
   "cell_type": "markdown",
   "id": "bbd79cfb",
   "metadata": {},
   "source": [
    "# CryptoCarbons\n",
    "\n",
    "`Katy Dickenson` `Tynan Purdy`\n",
    "\n",
    "An inspection of the theoretical emmisions of the cryptocurrency blockchain network."
   ]
  },
  {
   "cell_type": "markdown",
   "id": "43ea5a4e",
   "metadata": {},
   "source": [
    "# Sources of Data\n",
    "\n",
    "- Blockchain.com `DOWNLOAD JSON` https://www.blockchain.com/charts/hash-rate\n",
    "\n",
    "###### Tynan\n",
    "- Global Power Plant Database `DOWNLOAD CSV` https://datasets.wri.org/dataset/globalpowerplantdatabase\n",
    "- CoinGecko `API` https://www.coingecko.com/en/apiBlo\n",
    "\n",
    "###### Katy\n",
    "- Whattomine `WEBSCRAPE` https://whattomine.com/gpus\n",
    "- Whattomine `API` https://whattomine.com/coins.json"
   ]
  }
 ],
 "metadata": {
  "kernelspec": {
   "display_name": "Python 3",
   "language": "python",
   "name": "python3"
  },
  "language_info": {
   "codemirror_mode": {
    "name": "ipython",
    "version": 3
   },
   "file_extension": ".py",
   "mimetype": "text/x-python",
   "name": "python",
   "nbconvert_exporter": "python",
   "pygments_lexer": "ipython3",
   "version": "3.8.8"
  }
 },
 "nbformat": 4,
 "nbformat_minor": 5
}
